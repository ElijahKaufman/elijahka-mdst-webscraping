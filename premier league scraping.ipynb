{
 "cells": [
  {
   "cell_type": "code",
   "execution_count": 1,
   "id": "1acf0731",
   "metadata": {},
   "outputs": [],
   "source": [
    "import re\n",
    "\n",
    "from utils.soup import getSoup"
   ]
  },
  {
   "cell_type": "code",
   "execution_count": 19,
   "id": "3686d9f5",
   "metadata": {},
   "outputs": [],
   "source": [
    "page = 'https://www.bbc.com/sport/football/tables'\n",
    "    \n",
    "soup = getSoup(page)"
   ]
  },
  {
   "cell_type": "code",
   "execution_count": 23,
   "id": "e87bbfe9",
   "metadata": {},
   "outputs": [],
   "source": [
    "table = soup.find_all(\"table\")\n",
    "league_table = table[0]\n",
    "teams = league_table.find_all(\"tr\")"
   ]
  },
  {
   "cell_type": "code",
   "execution_count": 27,
   "id": "b08b8289",
   "metadata": {
    "scrolled": true
   },
   "outputs": [
    {
     "data": {
      "text/plain": [
       "[['1', 'Arsenal', '20', '16', '2', '2', '45', '17', '28', '50'],\n",
       " ['2', 'Man City', '21', '14', '3', '4', '53', '21', '32', '45'],\n",
       " ['3', 'Man Utd', '21', '13', '3', '5', '34', '26', '8', '42'],\n",
       " ['4', 'Newcastle', '21', '10', '10', '1', '34', '12', '22', '40'],\n",
       " ['5', 'Tottenham', '22', '12', '3', '7', '41', '31', '10', '39'],\n",
       " ['6', 'Brighton', '20', '10', '4', '6', '38', '27', '11', '34'],\n",
       " ['7', 'Brentford', '21', '8', '9', '4', '35', '28', '7', '33'],\n",
       " ['8', 'Fulham', '22', '9', '5', '8', '32', '30', '2', '32'],\n",
       " ['9', 'Chelsea', '21', '8', '6', '7', '22', '21', '1', '30'],\n",
       " ['10', 'Liverpool', '20', '8', '5', '7', '34', '28', '6', '29'],\n",
       " ['11', 'Aston Villa', '21', '8', '4', '9', '25', '31', '-6', '28'],\n",
       " ['12', 'Crystal Palace', '21', '6', '6', '9', '19', '29', '-10', '24'],\n",
       " ['13', 'Nottm Forest', '21', '6', '6', '9', '17', '35', '-18', '24'],\n",
       " ['14', 'Leicester', '21', '6', '3', '12', '32', '37', '-5', '21'],\n",
       " ['15', 'Wolves', '21', '5', '5', '11', '15', '30', '-15', '20'],\n",
       " ['16', 'West Ham', '21', '5', '4', '12', '18', '26', '-8', '19'],\n",
       " ['17', 'Leeds', '20', '4', '6', '10', '26', '34', '-8', '18'],\n",
       " ['18', 'Everton', '21', '4', '6', '11', '16', '28', '-12', '18'],\n",
       " ['19', 'Bournemouth', '21', '4', '5', '12', '19', '43', '-24', '17'],\n",
       " ['20', 'Southampton', '21', '4', '3', '14', '17', '38', '-21', '15']]"
      ]
     },
     "execution_count": 27,
     "metadata": {},
     "output_type": "execute_result"
    }
   ],
   "source": [
    "team_data = []\n",
    "for team in teams[1:21]:\n",
    "    \n",
    "    stats = team.find_all(\"td\")\n",
    "    \n",
    "    position = stats[0].text\n",
    "    team_name = stats[2].text\n",
    "    played = stats[3].text\n",
    "    won = stats[4].text\n",
    "    drawn = stats[5].text\n",
    "    lost = stats[6].text\n",
    "    for_goals = stats[7].text\n",
    "    against_goals = stats[8].text\n",
    "    goal_diff = stats[9].text\n",
    "    points = stats[10].text\n",
    "    \n",
    "    team_data.append([position, team_name, played, won, drawn, lost, for_goals, against_goals, goal_diff, points])\n",
    "    \n",
    "team_data"
   ]
  }
 ],
 "metadata": {
  "kernelspec": {
   "display_name": "Python 3 (ipykernel)",
   "language": "python",
   "name": "python3"
  },
  "language_info": {
   "codemirror_mode": {
    "name": "ipython",
    "version": 3
   },
   "file_extension": ".py",
   "mimetype": "text/x-python",
   "name": "python",
   "nbconvert_exporter": "python",
   "pygments_lexer": "ipython3",
   "version": "3.10.6"
  }
 },
 "nbformat": 4,
 "nbformat_minor": 5
}
